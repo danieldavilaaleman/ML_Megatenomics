{
 "cells": [
  {
   "metadata": {},
   "cell_type": "markdown",
   "source": [
    "# If statements\n",
    "Find motifs in DNA sequences\n"
   ],
   "id": "b438fb4d29185966"
  },
  {
   "cell_type": "code",
   "id": "initial_id",
   "metadata": {
    "collapsed": true,
    "ExecuteTime": {
     "end_time": "2025-02-17T04:41:52.689150Z",
     "start_time": "2025-02-17T04:41:52.685880Z"
    }
   },
   "source": [
    "def find_motif(motif, dna_sequence):\n",
    "    if motif in dna_sequence:\n",
    "        print(\"Motif found in DNA sequence\")\n",
    "        start_position = dna_sequence.find(motif)\n",
    "        print(\"Start position: \", start_position)\n",
    "    else:\n",
    "        print(\"Motif not found\")\n",
    "\n"
   ],
   "outputs": [],
   "execution_count": 1
  },
  {
   "metadata": {
    "ExecuteTime": {
     "end_time": "2025-02-17T05:06:24.509221Z",
     "start_time": "2025-02-17T05:06:24.506104Z"
    }
   },
   "cell_type": "code",
   "source": [
    "def count_motif(motif, dna_sequence):\n",
    "    positions = [] # list to store the motif position\n",
    "    for i in range(len(dna_sequence) - len(motif) + 1):\n",
    "        if dna_sequence[i:i+len(motif)] == motif:\n",
    "            positions.append(i)\n",
    "    if len(positions) > 0:\n",
    "        print(\"Motif found at positions: \", positions)\n",
    "    else:\n",
    "        print(\"No motif found\")"
   ],
   "id": "6f62f6b4c4619539",
   "outputs": [],
   "execution_count": 24
  },
  {
   "metadata": {
    "ExecuteTime": {
     "end_time": "2025-02-17T05:06:25.657912Z",
     "start_time": "2025-02-17T05:06:25.654585Z"
    }
   },
   "cell_type": "code",
   "source": [
    "dna_sequence = 'GATCGTGTACAGACACCGTACGACTGTGTAGAAAACGTGTACAGCGTGTACAG'\n",
    "motif = 'CGTGTACAG'\n",
    "\n",
    "find_motif(motif,dna_sequence)"
   ],
   "id": "643af7368eed71bd",
   "outputs": [
    {
     "name": "stdout",
     "output_type": "stream",
     "text": [
      "Motif found in DNA sequence\n",
      "Start position:  3\n"
     ]
    }
   ],
   "execution_count": 25
  },
  {
   "metadata": {
    "ExecuteTime": {
     "end_time": "2025-02-17T05:06:27.123370Z",
     "start_time": "2025-02-17T05:06:27.121302Z"
    }
   },
   "cell_type": "code",
   "source": "count_motif(motif, dna_sequence)",
   "id": "caf6782cb0234803",
   "outputs": [
    {
     "name": "stdout",
     "output_type": "stream",
     "text": [
      "Motif found at positions:  [3, 35, 44]\n"
     ]
    }
   ],
   "execution_count": 26
  },
  {
   "metadata": {},
   "cell_type": "markdown",
   "source": [
    "# While Statements\n",
    "## Exercises\n",
    "### DNA complement\n",
    "\n",
    "Write a program that takes a DNA sequence as input and uses a ```while``` loop to generate its complement"
   ],
   "id": "3df9584152633cdf"
  },
  {
   "metadata": {
    "ExecuteTime": {
     "end_time": "2025-02-17T06:26:37.057156Z",
     "start_time": "2025-02-17T06:26:37.053485Z"
    }
   },
   "cell_type": "code",
   "source": [
    "def complement_dna(dna_sequence):\n",
    "    i = 0\n",
    "    complement = \"\"\n",
    "    while i < len(dna_sequence):\n",
    "        if dna_sequence[i] == \"A\":\n",
    "            complement += \"T\"\n",
    "        elif dna_sequence[i] == \"G\":\n",
    "            complement += \"C\"\n",
    "        elif dna_sequence[i] == \"C\":\n",
    "            complement += \"G\"\n",
    "        else:\n",
    "            complement += \"A\"\n",
    "        i += 1\n",
    "\n",
    "    print(\"The complement sequence is\", complement)\n"
   ],
   "id": "b24077caf91e4c0",
   "outputs": [],
   "execution_count": 51
  },
  {
   "metadata": {
    "ExecuteTime": {
     "end_time": "2025-02-17T06:27:01.248942Z",
     "start_time": "2025-02-17T06:27:01.245880Z"
    }
   },
   "cell_type": "code",
   "source": [
    "dna_sequence='AAATTTCCCGGG'\n",
    "complement_dna(dna_sequence)"
   ],
   "id": "3bf2f2619e99b586",
   "outputs": [
    {
     "name": "stdout",
     "output_type": "stream",
     "text": [
      "The complement sequence is TTTAAAGGGCCC\n"
     ]
    }
   ],
   "execution_count": 53
  },
  {
   "metadata": {},
   "cell_type": "markdown",
   "source": [
    "### Iterative alignment\n",
    "Implement a simplified version of a sequence alignment algorithm using a ```while``` loops to compare two DNA sequences and track the alignment score!!!"
   ],
   "id": "b47d5137b91d66f5"
  },
  {
   "metadata": {
    "ExecuteTime": {
     "end_time": "2025-02-17T21:03:34.924496Z",
     "start_time": "2025-02-17T21:03:34.916343Z"
    }
   },
   "cell_type": "code",
   "source": [
    "def alignment(first_sequence, second_sequence):\n",
    "    len1 = len(first_sequence)\n",
    "    len2 = len(second_sequence)\n",
    "    score = 0\n",
    "    align1 = \"\"\n",
    "    align2 = \"\"\n",
    "\n",
    "    i = 0\n",
    "    j = 0\n",
    "    while i < len1 and j < len2:\n",
    "        if first_sequence[i] == second_sequence[i]:\n",
    "            score += 1\n",
    "            align1 += first_sequence[i]\n",
    "            align2 += second_sequence[j]\n",
    "            i += 1\n",
    "            j += 1\n",
    "        elif len1 -i > len2 -j: # This means first sequence has more remaining characters\n",
    "            align1 += first_sequence[i]\n",
    "            align2 += \"-\" # This means add a gap in the second sequence\n",
    "            i += 1\n",
    "        else: # Second sequence has more remaining characters\n",
    "            align1 += \"-\"\n",
    "            align2 += second_sequence[j]\n",
    "            j += 1\n",
    "\n",
    "    # Add any remining bases from either sequence\n",
    "    while i < len1:\n",
    "        align1 += first_sequence[i]\n",
    "        align2 +- \"-\"\n",
    "        i += 1\n",
    "    while j < len2:\n",
    "        align1 += \"-\"\n",
    "        align2 += second_sequence[j]\n",
    "        j += 1\n",
    "\n",
    "    total_length = len(align1) #Length of the alignment including gaps\n",
    "    if total_length >0:\n",
    "        percentage_identity = (score / total_length)*100\n",
    "    else:\n",
    "        percentage_identity = 0.0\n",
    "\n",
    "    print(\"Aligned Sequence 1: \", align1)\n",
    "    print(\"Aligned Sequence 2: \", align2)\n",
    "    print(\"Alignment Score: \", score) # Number of matches\n",
    "    print(\"Percentage Identity: \", percentage_identity)"
   ],
   "id": "8e5b78343c478de4",
   "outputs": [],
   "execution_count": 17
  },
  {
   "metadata": {
    "ExecuteTime": {
     "end_time": "2025-02-17T21:03:37.856413Z",
     "start_time": "2025-02-17T21:03:37.854099Z"
    }
   },
   "cell_type": "code",
   "source": [
    "a = \"AATCCGGCGT\"\n",
    "b = \"TATCAGGCGT\"\n",
    "\n",
    "alignment(a,b)"
   ],
   "id": "832354be5690b6a",
   "outputs": [
    {
     "name": "stdout",
     "output_type": "stream",
     "text": [
      "Aligned Sequence 1:  -AATC-CGGCGT\n",
      "Aligned Sequence 2:  T-ATCA-GGCGT\n",
      "Alignment Score:  8\n",
      "Percentage Identity:  66.66666666666666\n"
     ]
    }
   ],
   "execution_count": 18
  }
 ],
 "metadata": {
  "kernelspec": {
   "display_name": "Python 3",
   "language": "python",
   "name": "python3"
  },
  "language_info": {
   "codemirror_mode": {
    "name": "ipython",
    "version": 2
   },
   "file_extension": ".py",
   "mimetype": "text/x-python",
   "name": "python",
   "nbconvert_exporter": "python",
   "pygments_lexer": "ipython2",
   "version": "2.7.6"
  }
 },
 "nbformat": 4,
 "nbformat_minor": 5
}
